{
 "cells": [
  {
   "cell_type": "markdown",
   "metadata": {},
   "source": [
    "## DETECCIÓN DE OUTLIERS"
   ]
  },
  {
   "cell_type": "code",
   "execution_count": 1,
   "metadata": {},
   "outputs": [],
   "source": [
    "import pandas as pd\n",
    "import numpy as np\n",
    "from scipy import stats\n",
    "from sklearn.covariance import EllipticEnvelope\n",
    "import matplotlib.pyplot as plt"
   ]
  },
  {
   "cell_type": "code",
   "execution_count": 2,
   "metadata": {},
   "outputs": [
    {
     "name": "stdout",
     "output_type": "stream",
     "text": [
      "            a         b\n",
      "0    0.149014 -0.041479\n",
      "1    0.194307  0.456909\n",
      "2   -0.070246 -0.070241\n",
      "3    0.473764  0.230230\n",
      "4   -0.140842  0.162768\n",
      "..        ...       ...\n",
      "195 -5.114441  0.646251\n",
      "196  5.631630  0.277174\n",
      "197  1.552784  2.348984\n",
      "198 -0.545507  1.530697\n",
      "199  1.011772  4.813896\n",
      "\n",
      "[200 rows x 2 columns]\n"
     ]
    }
   ],
   "source": [
    "# Carga de datos.\n",
    "df = pd.read_csv(\"outliers.csv\")\n",
    "print(df)"
   ]
  },
  {
   "cell_type": "markdown",
   "metadata": {},
   "source": [
    "### 1) EllipticEnvelope()"
   ]
  },
  {
   "cell_type": "code",
   "execution_count": 3,
   "metadata": {},
   "outputs": [
    {
     "name": "stdout",
     "output_type": "stream",
     "text": [
      "[ 1  1  1  1  1  1  1  1  1  1  1  1  1  1  1  1  1  1  1  1  1  1  1  1\n",
      "  1  1  1  1  1  1  1  1  1  1  1  1  1  1  1  1  1  1  1  1  1  1  1  1\n",
      "  1  1  1  1  1  1  1  1  1  1  1  1  1  1  1  1  1  1  1  1  1  1  1  1\n",
      "  1  1  1  1  1  1  1  1  1  1  1  1  1  1  1  1  1  1  1  1  1  1  1  1\n",
      "  1  1  1  1  1  1  1  1  1  1  1  1  1  1  1  1  1  1  1  1  1  1  1  1\n",
      "  1  1  1  1  1  1  1  1  1  1  1  1  1  1  1  1  1  1  1  1  1  1  1  1\n",
      "  1  1  1  1  1  1 -1 -1 -1 -1 -1 -1 -1 -1 -1 -1 -1 -1 -1 -1 -1 -1 -1 -1\n",
      " -1 -1 -1 -1 -1 -1 -1 -1 -1 -1 -1 -1 -1 -1 -1 -1 -1 -1 -1 -1 -1 -1 -1 -1\n",
      " -1 -1 -1 -1 -1 -1 -1 -1]\n",
      "\n",
      "Outliers en la posición: \n",
      " [150 151 152 153 154 155 156 157 158 159 160 161 162 163 164 165 166 167\n",
      " 168 169 170 171 172 173 174 175 176 177 178 179 180 181 182 183 184 185\n",
      " 186 187 188 189 190 191 192 193 194 195 196 197 198 199]\n",
      "\n",
      "Número de outliers: \n",
      " 50\n"
     ]
    }
   ],
   "source": [
    "# Entrenamos un objeto de tipo EllipticEnvelope\n",
    "algorithm = EllipticEnvelope(support_fraction=None, contamination=0.25, random_state=42)\n",
    "outlier_method = algorithm.fit(df)\n",
    "\n",
    "# Aplicamos el método de detección de outliers entrenado sobre nuesto dataset\n",
    "df_outliers = outlier_method.predict(df)\n",
    "print(df_outliers)\n",
    "\n",
    "# Determinar la posición de los outliers\n",
    "pos_outliers = np.where(df_outliers==-1)[0]\n",
    "print('\\nOutliers en la posición: \\n', pos_outliers)\n",
    "\n",
    "# Determinar el número de outliers\n",
    "print('\\nNúmero de outliers: \\n', len(pos_outliers))"
   ]
  },
  {
   "cell_type": "code",
   "execution_count": 5,
   "metadata": {},
   "outputs": [
    {
     "name": "stdout",
     "output_type": "stream",
     "text": [
      "[ 1  1  1  1  1  1  1  1  1  1  1  1  1  1  1  1  1  1  1  1  1  1  1  1\n",
      "  1  1  1  1  1  1  1  1  1  1  1  1  1  1  1  1  1  1  1  1  1  1  1  1\n",
      "  1  1  1  1  1  1  1  1  1  1  1  1  1  1  1  1  1  1  1  1  1  1  1  1\n",
      "  1  1  1  1  1  1  1  1  1  1  1  1  1  1  1  1  1  1  1  1  1  1  1  1\n",
      "  1  1  1  1  1  1  1  1  1  1  1  1  1  1  1  1  1  1  1  1  1  1  1  1\n",
      "  1  1  1  1  1  1  1  1  1  1  1  1  1  1  1  1  1  1  1  1  1  1  1  1\n",
      "  1  1  1  1  1  1 -1 -1 -1 -1 -1 -1 -1 -1 -1 -1 -1 -1 -1 -1 -1 -1 -1 -1\n",
      " -1 -1 -1 -1 -1 -1 -1 -1 -1 -1 -1 -1 -1 -1 -1 -1 -1 -1 -1 -1 -1 -1 -1 -1\n",
      " -1 -1 -1 -1 -1 -1 -1 -1]\n",
      "[150 151 152 153 154 155 156 157 158 159 160 161 162 163 164 165 166 167\n",
      " 168 169 170 171 172 173 174 175 176 177 178 179 180 181 182 183 184 185\n",
      " 186 187 188 189 190 191 192 193 194 195 196 197 198 199]\n"
     ]
    }
   ],
   "source": [
    "# Definimos una función que, dado un determinado \"df\" y un \"algorithm\", devuelva la matriz y la posición de outliers\n",
    "def find_outliers(df, algorithm):\n",
    "    \n",
    "    # Entrenamos el algoritmo\n",
    "    outlier_method = algorithm.fit(df)\n",
    "\n",
    "    # Aplicar el método de detección de outliers\n",
    "    df_outliers = outlier_method.predict(df)\n",
    "\n",
    "    # Extraer posición outliers\n",
    "    pos_outliers = np.where(df_outliers==-1)[0]\n",
    "\n",
    "    return df_outliers, pos_outliers\n",
    "\n",
    "df_outliers, pos_outliers = find_outliers(df, algorithm)\n",
    "print(df_outliers)\n",
    "print(pos_outliers)"
   ]
  },
  {
   "cell_type": "markdown",
   "metadata": {},
   "source": [
    "### 2) Otros métodos similares"
   ]
  },
  {
   "cell_type": "code",
   "execution_count": 15,
   "metadata": {},
   "outputs": [
    {
     "name": "stdout",
     "output_type": "stream",
     "text": [
      "IF\n",
      "[ 1  1  1  1  1  1  1  1  1  1  1  1  1  1  1  1  1  1  1  1  1  1  1  1\n",
      "  1  1  1  1  1  1  1  1  1  1  1  1  1  1  1  1  1  1  1  1  1  1  1  1\n",
      "  1  1  1  1  1  1  1  1  1  1  1  1  1  1  1  1  1  1  1  1  1  1  1  1\n",
      "  1  1  1  1  1  1  1  1  1  1  1  1  1  1  1  1  1  1  1  1  1  1  1  1\n",
      "  1  1  1  1  1  1  1  1  1  1  1  1  1  1  1  1  1  1  1  1  1  1  1  1\n",
      "  1  1  1  1  1  1  1  1  1  1  1  1  1  1  1  1  1  1  1  1  1  1  1  1\n",
      "  1  1  1  1  1  1 -1 -1 -1 -1 -1 -1 -1 -1 -1 -1 -1 -1 -1 -1  1 -1 -1 -1\n",
      " -1 -1 -1 -1 -1 -1 -1 -1 -1 -1 -1 -1 -1 -1 -1 -1 -1 -1 -1 -1 -1 -1 -1 -1\n",
      " -1 -1 -1 -1 -1 -1  1 -1]\n",
      "48\n",
      "\n",
      "OC_SVM\n",
      "[ 1  1  1  1  1  1  1  1  1  1  1  1  1  1  1  1  1  1  1  1  1  1  1  1\n",
      "  1  1  1  1  1  1  1  1  1  1  1  1  1  1  1  1  1  1  1  1  1  1  1  1\n",
      "  1  1  1  1  1  1  1  1  1  1  1  1  1  1  1  1  1  1  1  1  1  1  1  1\n",
      "  1  1  1  1  1  1  1  1  1  1  1  1  1  1  1  1  1  1  1  1  1  1  1  1\n",
      "  1  1  1  1  1  1  1  1  1  1  1  1  1  1  1  1  1  1  1  1  1  1  1  1\n",
      "  1  1  1  1  1  1  1  1  1  1  1  1  1  1  1  1  1  1  1  1  1  1  1  1\n",
      "  1  1  1  1  1  1  1 -1 -1 -1 -1 -1 -1  1 -1 -1  1  1 -1 -1  1  1 -1 -1\n",
      "  1  1 -1  1  1  1  1  1  1  1  1 -1 -1  1 -1 -1  1  1  1  1 -1 -1 -1 -1\n",
      "  1  1 -1  1 -1 -1  1 -1]\n",
      "25\n",
      "\n",
      "LOF\n",
      "[ 1  1  1  1  1  1  1  1  1  1  1  1  1  1  1  1  1  1  1  1  1  1  1  1\n",
      "  1  1  1  1  1  1  1  1  1  1  1  1  1  1  1  1  1  1  1  1  1  1  1  1\n",
      "  1  1  1  1  1  1  1  1  1  1  1  1  1  1  1  1  1  1  1  1  1  1  1  1\n",
      "  1  1  1  1  1  1  1  1  1  1  1  1  1  1  1  1  1  1  1  1  1  1  1  1\n",
      "  1  1  1  1  1  1  1  1 -1  1  1  1  1  1 -1  1  1  1  1  1  1  1  1  1\n",
      "  1  1  1  1  1  1  1  1  1  1  1 -1  1  1  1  1  1  1  1  1  1  1  1  1\n",
      "  1  1  1  1  1  1 -1 -1 -1 -1 -1 -1 -1 -1 -1 -1 -1 -1 -1 -1 -1 -1 -1 -1\n",
      " -1 -1 -1 -1 -1 -1 -1 -1 -1 -1 -1 -1 -1 -1 -1 -1 -1 -1 -1 -1 -1 -1 -1 -1\n",
      " -1 -1 -1 -1 -1 -1 -1 -1]\n",
      "53\n"
     ]
    },
    {
     "name": "stderr",
     "output_type": "stream",
     "text": [
      "c:\\Users\\pepel\\Desktop\\Formación\\Máster\\Contenido\\Asignaturas\\Aprendizaje Supervisado\\Scripts\\.venv\\Lib\\site-packages\\sklearn\\base.py:465: UserWarning: X does not have valid feature names, but LocalOutlierFactor was fitted with feature names\n",
      "  warnings.warn(\n"
     ]
    }
   ],
   "source": [
    "from sklearn.ensemble import IsolationForest\n",
    "from sklearn.svm import OneClassSVM\n",
    "from sklearn.neighbors import LocalOutlierFactor\n",
    "\n",
    "IF = IsolationForest(n_estimators=100, contamination='auto', random_state=42)\n",
    "OC_SVM = OneClassSVM(kernel='poly', degree=1, gamma='auto')\n",
    "LOF = LocalOutlierFactor(n_neighbors=100, contamination='auto', novelty=True)\n",
    "\n",
    "df_outliers_IF, pos_outliers_IF = find_outliers(df, IF)\n",
    "print(\"IF\")\n",
    "print(df_outliers_IF)\n",
    "print(len(pos_outliers_IF))\n",
    "\n",
    "df_outliers_SVM, pos_outliers_SVM = find_outliers(df, OC_SVM)\n",
    "print(\"\\nOC_SVM\")\n",
    "print(df_outliers_SVM)\n",
    "print(len(pos_outliers_SVM))\n",
    "\n",
    "df_outliers_LOF, pos_outliers_LOF = find_outliers(df, LOF)\n",
    "print(\"\\nLOF\")\n",
    "print(df_outliers_LOF)\n",
    "print(len(pos_outliers_LOF))"
   ]
  },
  {
   "cell_type": "code",
   "execution_count": 16,
   "metadata": {},
   "outputs": [
    {
     "name": "stdout",
     "output_type": "stream",
     "text": [
      "IF\n",
      "            a         b\n",
      "0    0.149014 -0.041479\n",
      "1    0.194307  0.456909\n",
      "2   -0.070246 -0.070241\n",
      "3    0.473764  0.230230\n",
      "4   -0.140842  0.162768\n",
      "..        ...       ...\n",
      "147  0.107105 -0.207873\n",
      "148  0.269880  0.092190\n",
      "149  0.243859  0.188889\n",
      "164  1.582047 -0.618654\n",
      "198 -0.545507  1.530697\n",
      "\n",
      "[152 rows x 2 columns]\n",
      "\n",
      "OC_SVM\n",
      "            a         b\n",
      "0    0.149014 -0.041479\n",
      "1    0.194307  0.456909\n",
      "2   -0.070246 -0.070241\n",
      "3    0.473764  0.230230\n",
      "4   -0.140842  0.162768\n",
      "..        ...       ...\n",
      "187 -4.589685  1.790524\n",
      "192 -5.854146  5.638546\n",
      "193 -5.482081  4.693717\n",
      "195 -5.114441  0.646251\n",
      "198 -0.545507  1.530697\n",
      "\n",
      "[175 rows x 2 columns]\n",
      "\n",
      "LOF\n",
      "            a         b\n",
      "0    0.149014 -0.041479\n",
      "1    0.194307  0.456909\n",
      "2   -0.070246 -0.070241\n",
      "3    0.473764  0.230230\n",
      "4   -0.140842  0.162768\n",
      "..        ...       ...\n",
      "145 -0.062437 -0.147900\n",
      "146 -0.176809  0.254881\n",
      "147  0.107105 -0.207873\n",
      "148  0.269880  0.092190\n",
      "149  0.243859  0.188889\n",
      "\n",
      "[147 rows x 2 columns]\n"
     ]
    }
   ],
   "source": [
    "# Eliminamos los outliers\n",
    "new_df_IF = df[df_outliers_IF==1]\n",
    "print(\"IF\")\n",
    "print(new_df_IF)\n",
    "\n",
    "new_df_SVM = df[df_outliers_SVM==1]\n",
    "print(\"\\nOC_SVM\")\n",
    "print(new_df_SVM)\n",
    "\n",
    "new_df_LOF = df[df_outliers_LOF==1]\n",
    "print(\"\\nLOF\")\n",
    "print(new_df_LOF)"
   ]
  },
  {
   "cell_type": "markdown",
   "metadata": {},
   "source": [
    "### 3) Box plot"
   ]
  },
  {
   "cell_type": "code",
   "execution_count": 21,
   "metadata": {},
   "outputs": [
    {
     "name": "stdout",
     "output_type": "stream",
     "text": [
      "limite inferior:  -1.0853060827395105\n",
      "limite superior:  1.0119554520872196\n",
      "Posición de outliers:  [150 153 154 157 159 160 162 165 168 169 171 172 174 175 177 178 181 184\n",
      " 185 186 187 190 191 192 193 195 151 152 155 156 161 163 164 166 167 173\n",
      " 176 179 180 182 188 189 196 197]\n",
      "Número de outliers:  44\n"
     ]
    },
    {
     "data": {
      "image/png": "[encoded data removed]",
      "text/plain": [
       "<Figure size 640x480 with 1 Axes>"
      ]
     },
     "metadata": {},
     "output_type": "display_data"
    }
   ],
   "source": [
    "# Seleccionamos el atributo que vamos a medir\n",
    "a = df['a']\n",
    "\n",
    "# Seleccionamos los umbrales a partir de los cuales vamos a considerar outliers\n",
    "Q1 = stats.scoreatpercentile(a, 25)\n",
    "# Q2 = stats.scoreatpercentile(a, 50)\n",
    "Q3 = stats.scoreatpercentile(a, 75)\n",
    "RIC = Q3 - Q1\n",
    "li = Q1 - 1.5*RIC #xmin\n",
    "ls = Q3 + 1.5*RIC #xmax\n",
    "\n",
    "# Observamos los límites inferior y superior\n",
    "print('limite inferior: ', li)\n",
    "print('limite superior: ', ls)\n",
    "\n",
    "# Buscamos la posición de los outliers\n",
    "pos_i = np.where(a<li)[0]\n",
    "pos_s = np.where(a>ls)[0]\n",
    "pos_outliers = np.concatenate((pos_i, pos_s))\n",
    "print('Posición de outliers: ', pos_outliers)\n",
    "print('Número de outliers: ', len(pos_outliers))\n",
    "\n",
    "# Dibujamos el diagrama de caja y bigotes\n",
    "prop = plt.boxplot(a)\n",
    "plt.boxplot(a)\n",
    "plt.show()"
   ]
  },
  {
   "cell_type": "code",
   "execution_count": 24,
   "metadata": {},
   "outputs": [],
   "source": [
    "# Definir una función que, dada una columna de un dataframe, devuelva la posición de los outliers según el método box plot\n",
    "def find_limits_BP(a):\n",
    "    Q1 = stats.scoreatpercentile(a, 25)\n",
    "    Q3 = stats.scoreatpercentile(a, 75)\n",
    "    RIC = Q3 - Q1\n",
    "    li = Q1 - 1.5*RIC\n",
    "    ls = Q3 + 1.5*RIC\n",
    "\n",
    "    pos_i = np.where(a<li)[0]\n",
    "    pos_s = np.where(a>ls)[0]\n",
    "    pos_outliers = np.concatenate((pos_i, pos_s))\n",
    "\n",
    "    return pos_outliers\n"
   ]
  },
  {
   "cell_type": "code",
   "execution_count": 25,
   "metadata": {},
   "outputs": [
    {
     "name": "stdout",
     "output_type": "stream",
     "text": [
      "Posiciones de outliers:  [104 150 151 152 153 154 155 156 157 158 159 160 161 162 163 164 165 166\n",
      " 167 168 169 170 171 172 173 174 175 176 177 178 179 180 181 182 183 184\n",
      " 185 186 187 188 189 190 191 192 193 194 195 196 197 198 199]\n",
      "Numero de outliers:  51\n"
     ]
    }
   ],
   "source": [
    "# Creamos un bucle for que estime los valores outliers de cada atributo\n",
    "headers = df.columns # nombre de los atributos del CSV\n",
    "pos_outliers = []\n",
    "for i in range(len(headers)):\n",
    "    variable = df[headers[i]] # Atributo 'x'\n",
    "    pos_out = np.expand_dims(find_limits_BP(variable), axis=1) # Llamamos a la función que hemos creado\n",
    "    pos_outliers.append(pos_out) # Lo añadimos en una lista\n",
    "\n",
    "# Concatenamos todas las posiciones de outliers\n",
    "po = np.vstack(pos_outliers)\n",
    "\n",
    "# Vemos las posiciones de todos los outliers\n",
    "pos_out = np.unique(po)\n",
    "print('Posiciones de outliers: ', pos_out)\n",
    "\n",
    "# Observamos el número de outliers\n",
    "print('Numero de outliers: ', len(pos_out))"
   ]
  }
 ],
 "metadata": {
  "kernelspec": {
   "display_name": "Python 3",
   "language": "python",
   "name": "python3"
  },
  "language_info": {
   "codemirror_mode": {
    "name": "ipython",
    "version": 3
   },
   "file_extension": ".py",
   "mimetype": "text/x-python",
   "name": "python",
   "nbconvert_exporter": "python",
   "pygments_lexer": "ipython3",
   "version": "3.11.6"
  }
 },
 "nbformat": 4,
 "nbformat_minor": 2
}
