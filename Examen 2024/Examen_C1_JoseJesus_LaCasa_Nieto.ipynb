{
 "cells": [
  {
   "cell_type": "markdown",
   "metadata": {},
   "source": [
    "### EXAMEN - Convocatoria 1 - Programación\n",
    "Utilizar el conjunto de datos \"dataset_exam.npy\" para resolver el ejercicio. Tener en cuenta que la última columna corresponde a la clase."
   ]
  },
  {
   "cell_type": "code",
   "execution_count": 18,
   "metadata": {},
   "outputs": [],
   "source": [
    "# Librerías\n",
    "import numpy as np\n",
    "from sklearn.model_selection import train_test_split, GridSearchCV\n",
    "from sklearn import preprocessing\n",
    "from sklearn.feature_selection import mutual_info_classif, SelectPercentile\n",
    "from sklearn.linear_model import LogisticRegression\n",
    "from sklearn.svm import SVC\n",
    "from sklearn.metrics import precision_score, accuracy_score, recall_score, f1_score, roc_auc_score, confusion_matrix, roc_curve, auc\n",
    "import matplotlib.pyplot as plt"
   ]
  },
  {
   "cell_type": "markdown",
   "metadata": {},
   "source": [
    "#### 1) Partición de datos externa (1 punto)\n",
    "Realizar una partición externa de tipo hold-out seleccionando un 20% de los datos para test (fijar una semilla en 42).\n",
    "Comprobad si los datos, tanto de train como de test, están más o menos balanceados."
   ]
  },
  {
   "cell_type": "code",
   "execution_count": 19,
   "metadata": {},
   "outputs": [
    {
     "name": "stdout",
     "output_type": "stream",
     "text": [
      "Base de datos.\n",
      "Dimensiones: (492, 9)\n",
      "\n",
      "[[ 0.          4.          1.         ...  8.2603626   7.37490176\n",
      "   0.        ]\n",
      " [ 0.          4.          0.         ... 10.9370737  10.30131004\n",
      "   0.        ]\n",
      " [ 0.          3.          1.         ... 10.69134847 11.45671439\n",
      "   0.        ]\n",
      " ...\n",
      " [ 0.          2.          0.         ...  1.94458971  8.88390924\n",
      "   0.        ]\n",
      " [ 0.          3.          2.         ...  1.92895933  9.03304966\n",
      "   1.        ]\n",
      " [ 0.          4.          0.         ...  2.0478487   8.86096477\n",
      "   0.        ]]\n",
      "\n",
      "Dimensiones de los atributos: (492, 8)\n",
      "Dimensiones de la clase: (492,)\n",
      "\n",
      "Dimensiones de X_train: (393, 8)\n",
      "Dimensiones de X_test: (99, 8)\n",
      "Dimensiones de y_train: (393,)\n",
      "Dimensiones de y_test: (99,)\n",
      "\n",
      "Etiquetas de entrenamiento: [0. 1.]. Número de veces que se repiten: [195 198]\n",
      "Etiquetas de test: [0. 1.]. Número de veces que se repiten: [51 48]\n"
     ]
    }
   ],
   "source": [
    "# Cargamos los datos \n",
    "data = np.load('dataset_exam.npy', allow_pickle=True)\n",
    "\n",
    "print(f\"Base de datos.\\nDimensiones: {np.shape(data)}\\n\")\n",
    "print(data)\n",
    "\n",
    "# Separación de los atributos de la clase\n",
    "X = data[:, :-1]\n",
    "y = data[:, -1]\n",
    "\n",
    "print(\"\\nDimensiones de los atributos: {}\".format(np.shape(X)))\n",
    "print(\"Dimensiones de la clase:\", np.shape(y))\n",
    "\n",
    "# Partición de los datos en train y test\n",
    "X_train, X_test, y_train, y_test = train_test_split(X, y, test_size=0.2, random_state=42)\n",
    "\n",
    "print(\"\\nDimensiones de X_train:\", np.shape(X_train))\n",
    "print(\"Dimensiones de X_test:\", np.shape(X_test))\n",
    "print(\"Dimensiones de y_train:\", np.shape(y_train))\n",
    "print(\"Dimensiones de y_test:\", np.shape(y_test))\n",
    "\n",
    "# Comprobación del balanceo de los datos\n",
    "labels_train, counts_train = np.unique(y_train, return_counts=True)\n",
    "labels_test, counts_test = np.unique(y_test, return_counts=True)\n",
    "\n",
    "print(f\"\\nEtiquetas de entrenamiento: {labels_train}. Número de veces que se repiten: {counts_train}\")\n",
    "print(f\"Etiquetas de test: {labels_test}. Número de veces que se repiten: {counts_test}\")"
   ]
  },
  {
   "cell_type": "markdown",
   "metadata": {},
   "source": [
    "#### 2) Estandarización de los datos de train y test (1 punto)\n",
    "Utilizar el método StandardScaler()."
   ]
  },
  {
   "cell_type": "code",
   "execution_count": 20,
   "metadata": {},
   "outputs": [
    {
     "name": "stdout",
     "output_type": "stream",
     "text": [
      "Datos estandarizados:\n",
      "\n",
      "Atributos entrenamiento:\n",
      "[[-0.53714485 -0.41701989 -0.37232487 -0.42469918  0.88784615 -0.54017298\n",
      "  -1.96779643 -2.17643457]\n",
      " [ 1.86169522 -0.41701989 -1.25913502  0.31710872  0.88784615  0.33529217\n",
      "   0.47045818  0.57704227]\n",
      " [-0.53714485  0.63354944 -0.37232487 -1.16650709  1.78252188 -2.29090328\n",
      "  -0.78155436 -2.19168937]\n",
      " [ 1.86169522  0.63354944 -1.25913502  0.31710872  0.88784615 -2.1946854\n",
      "  -0.70088243 -2.11512786]\n",
      " [-0.53714485 -1.46758922  0.51448528  0.31710872 -0.90150532  0.45491681\n",
      "   0.15483585  0.27805077]\n",
      " [-0.53714485 -0.41701989 -1.25913502  1.05891663 -0.00682959  0.37593521\n",
      "   0.24695695  0.4463326 ]\n",
      " [-0.53714485  0.63354944  1.40129542 -0.42469918 -0.90150532 -1.93607511\n",
      "  -1.94807861  0.17303076]\n",
      " [ 1.86169522 -0.41701989 -0.37232487  0.31710872 -0.00682959 -0.56594614\n",
      "  -1.96361207 -2.21273662]\n",
      " [ 1.86169522  0.63354944  2.28810557 -0.42469918 -1.79618105 -0.30289658\n",
      "   1.65651072  0.46205349]\n",
      " [-0.53714485 -0.41701989 -0.37232487  0.31710872 -0.00682959  0.17189182\n",
      "   0.98282572  0.85428384]]\n",
      "\n",
      "Atributos test:\n",
      "[[-0.53714485  0.63354944 -0.37232487 -1.908315    2.67719761  0.05934713\n",
      "   0.34463955 -0.04781824]\n",
      " [-0.53714485 -0.41701989  2.28810557 -0.42469918 -1.79618105  0.73631258\n",
      "   0.52701466  0.66320258]\n",
      " [ 1.86169522  0.63354944 -0.37232487  0.31710872 -0.00682959 -0.28406237\n",
      "   0.31670305  0.46205349]\n",
      " [-0.53714485  0.63354944 -0.37232487  1.05891663 -0.90150532 -0.59020263\n",
      "   0.70077578  0.46205349]\n",
      " [-0.53714485 -0.41701989  1.40129542 -0.42469918 -0.90150532  0.64235276\n",
      "   0.16621631  0.39633355]\n",
      " [-0.53714485  1.68411878 -1.25913502  0.31710872  0.88784615  0.61949711\n",
      "   0.86002312  0.71246969]\n",
      " [-0.53714485  1.68411878  0.51448528 -0.42469918 -0.00682959  0.88670476\n",
      "   0.29047409  0.59403728]\n",
      " [-0.53714485 -0.41701989 -0.37232487  0.31710872 -0.00682959  0.64308683\n",
      "   0.57501311  0.7432498 ]\n",
      " [-0.53714485 -0.41701989  0.51448528  0.31710872 -0.90150532 -1.924094\n",
      "  -1.96921366  0.17606101]\n",
      " [-0.53714485 -0.41701989  0.51448528  1.05891663 -1.79618105 -0.50871457\n",
      "   0.35218213  0.46205349]]\n"
     ]
    }
   ],
   "source": [
    "# Cargar el estandarizador\n",
    "standarizer = preprocessing.StandardScaler()\n",
    "\n",
    "# Entrenamiento del modelo con los datos de entrenamiento\n",
    "standarizer.fit(X_train)\n",
    "\n",
    "# Aplicación del modelo a los datos de entrenamiento y test\n",
    "X_train_std = standarizer.transform(X_train)\n",
    "X_test_std = standarizer.transform(X_test)\n",
    "\n",
    "print(\"Datos estandarizados:\\n\")\n",
    "print(\"Atributos entrenamiento:\\n{}\".format(X_train_std[:10]))\n",
    "print(\"\\nAtributos test:\\n{}\".format(X_test_std[:10]))"
   ]
  },
  {
   "cell_type": "markdown",
   "metadata": {},
   "source": [
    "#### 3) Selección de atributos en train y test (1 punto)\n",
    "Aplicar el método de mutual information para clasificación seleccionando un percentile=90. (Recordad la función \"SelectPercentile\")"
   ]
  },
  {
   "cell_type": "code",
   "execution_count": 21,
   "metadata": {},
   "outputs": [
    {
     "name": "stdout",
     "output_type": "stream",
     "text": [
      "Dimensiones datos de entrenamiento: (393, 7).\n",
      "\n",
      "Datos de entrenamiento:\n",
      "[[-0.53714485 -0.41701989 -0.37232487 -0.42469918 -0.54017298 -1.96779643\n",
      "  -2.17643457]\n",
      " [ 1.86169522 -0.41701989 -1.25913502  0.31710872  0.33529217  0.47045818\n",
      "   0.57704227]\n",
      " [-0.53714485  0.63354944 -0.37232487 -1.16650709 -2.29090328 -0.78155436\n",
      "  -2.19168937]\n",
      " [ 1.86169522  0.63354944 -1.25913502  0.31710872 -2.1946854  -0.70088243\n",
      "  -2.11512786]\n",
      " [-0.53714485 -1.46758922  0.51448528  0.31710872  0.45491681  0.15483585\n",
      "   0.27805077]\n",
      " [-0.53714485 -0.41701989 -1.25913502  1.05891663  0.37593521  0.24695695\n",
      "   0.4463326 ]\n",
      " [-0.53714485  0.63354944  1.40129542 -0.42469918 -1.93607511 -1.94807861\n",
      "   0.17303076]\n",
      " [ 1.86169522 -0.41701989 -0.37232487  0.31710872 -0.56594614 -1.96361207\n",
      "  -2.21273662]\n",
      " [ 1.86169522  0.63354944  2.28810557 -0.42469918 -0.30289658  1.65651072\n",
      "   0.46205349]\n",
      " [-0.53714485 -0.41701989 -0.37232487  0.31710872  0.17189182  0.98282572\n",
      "   0.85428384]]\n",
      "\n",
      "Dimensiones datos de test: (99, 7).\n",
      "\n",
      "Datos de test:\n",
      "[[-0.53714485  0.63354944 -0.37232487 -1.908315    0.05934713  0.34463955\n",
      "  -0.04781824]\n",
      " [-0.53714485 -0.41701989  2.28810557 -0.42469918  0.73631258  0.52701466\n",
      "   0.66320258]\n",
      " [ 1.86169522  0.63354944 -0.37232487  0.31710872 -0.28406237  0.31670305\n",
      "   0.46205349]\n",
      " [-0.53714485  0.63354944 -0.37232487  1.05891663 -0.59020263  0.70077578\n",
      "   0.46205349]\n",
      " [-0.53714485 -0.41701989  1.40129542 -0.42469918  0.64235276  0.16621631\n",
      "   0.39633355]\n",
      " [-0.53714485  1.68411878 -1.25913502  0.31710872  0.61949711  0.86002312\n",
      "   0.71246969]\n",
      " [-0.53714485  1.68411878  0.51448528 -0.42469918  0.88670476  0.29047409\n",
      "   0.59403728]\n",
      " [-0.53714485 -0.41701989 -0.37232487  0.31710872  0.64308683  0.57501311\n",
      "   0.7432498 ]\n",
      " [-0.53714485 -0.41701989  0.51448528  0.31710872 -1.924094   -1.96921366\n",
      "   0.17606101]\n",
      " [-0.53714485 -0.41701989  0.51448528  1.05891663 -0.50871457  0.35218213\n",
      "   0.46205349]]\n"
     ]
    }
   ],
   "source": [
    "# Carga del selector\n",
    "selector = SelectPercentile(score_func=mutual_info_classif, percentile=90)\n",
    "\n",
    "# Entrenamiento del selector con el 80% de los datos estandarizados\n",
    "selector.fit(X_train_std, y_train)\n",
    "\n",
    "# Aplicación del selector a los datos\n",
    "X_train_selected = selector.transform(X_train_std)\n",
    "X_test_selected = selector.transform(X_test_std)\n",
    "\n",
    "print(f\"Dimensiones datos de entrenamiento: {np.shape(X_train_selected)}.\\n\\nDatos de entrenamiento:\\n{X_train_selected[:10]}\")\n",
    "print(f\"\\nDimensiones datos de test: {np.shape(X_test_selected)}.\\n\\nDatos de test:\\n{X_test_selected[:10]}\")"
   ]
  },
  {
   "cell_type": "markdown",
   "metadata": {},
   "source": [
    "#### 4) Comparación de modelos de clasificación mediante validación cruzada (3 puntos)\n",
    "Instrucciones:\n",
    "\n",
    "- Aplicar una validación cruzada interna de K=5 bolsas para optimizar y comparar la capacidad predictiva de los siguientes modelos: Regresión Logística y Support Vector Machine.\n",
    "- La optimización de hiperparámetros debe realizarse de manera automática. (Recordad la función \"GridSearchCV\").\n",
    "- La comparación debe realizarse únicamente en términos de exactitud proporcionando resultados de media +- desviación estándar."
   ]
  },
  {
   "cell_type": "code",
   "execution_count": 22,
   "metadata": {},
   "outputs": [
    {
     "name": "stdout",
     "output_type": "stream",
     "text": [
      "Logistic Regression: 0.6819 +/- 0.0489\n",
      "Support Vector Machine: 0.8220 +/- 0.0378\n"
     ]
    }
   ],
   "source": [
    "# Definir los modelos\n",
    "logistic_regression_model = LogisticRegression()\n",
    "svm_model = SVC(probability=True)\n",
    "\n",
    "# Parámetros que se van a explorar en cada modelo\n",
    "logistic_regression_params = {'C': [0.001, 0.01, 0.1, 1, 10, 100]}\n",
    "svm_params = {'C': [0.001, 0.01, 0.1, 1, 10, 100], 'gamma': [0.001, 0.01, 0.1, 1], 'kernel': [\"linear\", \"rbf\", \"poly\", \"sigmoid\"]}\n",
    "\n",
    "# Objetos GridSearchCV para regresión logística y SVM\n",
    "logistic_grid = GridSearchCV(logistic_regression_model, logistic_regression_params, cv=5)\n",
    "svm_grid = GridSearchCV(svm_model, svm_params, cv=5)\n",
    "\n",
    "# Ajuste de los modelos a los datos\n",
    "logistic_grid.fit(X_train_selected, y_train)\n",
    "svm_grid.fit(X_train_selected, y_train)\n",
    "\n",
    "# Resultados de media y desviación típica para cada uno de los parámetros\n",
    "logistic_scores_mean = logistic_grid.cv_results_['mean_test_score'][logistic_grid.best_index_]\n",
    "logistic_scores_std = logistic_grid.cv_results_['std_test_score'][logistic_grid.best_index_]\n",
    "svm_scores_mean = svm_grid.cv_results_['mean_test_score'][svm_grid.best_index_]\n",
    "svm_scores_std = svm_grid.cv_results_['std_test_score'][svm_grid.best_index_]\n",
    "\n",
    "print(f\"Logistic Regression: {logistic_scores_mean:.4f} +/- {logistic_scores_std:.4f}\")\n",
    "print(f\"Support Vector Machine: {svm_scores_mean:.4f} +/- {svm_scores_std:.4f}\")"
   ]
  },
  {
   "cell_type": "markdown",
   "metadata": {},
   "source": [
    "#### 5) Evaluación de los modelos sobre el conjunto de test (2.5 puntos)\n",
    "- Entrenar los modelos anteriores utilizando todos los datos de entrenamiento.\n",
    "- Evaluar su rendimiento sobre el conjunto de test mostrando una tabla de resultados tal que:\n",
    " * Las filas serán: Precisión, Sensibilidad, F-score, Exactitud y AUC\n",
    " * Las columnas serán: LOGR y SVM"
   ]
  },
  {
   "cell_type": "code",
   "execution_count": 23,
   "metadata": {},
   "outputs": [
    {
     "name": "stdout",
     "output_type": "stream",
     "text": [
      "Mejores parámetros para Logistic Regression: {'C': 10}\n",
      "Mejores parámetros para Support Vector Machine {'C': 100, 'gamma': 0.1, 'kernel': 'rbf'}\n",
      "\n",
      "Tabla de Resultados:\n",
      "Metricas       | LOGR            | SVM\n",
      "------------------------------------------\n",
      "Precisión      | 0.6140          | 0.8696\n",
      "Sensibilidad   | 0.7292          | 0.8333\n",
      "F-score        | 0.6667          | 0.8511\n",
      "Exactitud      | 0.6465          | 0.8586\n",
      "AUC            | 0.6489          | 0.8578\n"
     ]
    }
   ],
   "source": [
    "# Obtención de los mejores parámetros para el modelo\n",
    "logistic_scores_mean = logistic_grid.cv_results_['mean_test_score']\n",
    "best_logistic_index_mean = np.argmax(logistic_scores_mean)\n",
    "best_logistic_params_mean = logistic_grid.cv_results_['params'][best_logistic_index_mean]\n",
    "\n",
    "print(\"Mejores parámetros para Logistic Regression:\", best_logistic_params_mean)\n",
    "\n",
    "svm_scores_mean = svm_grid.cv_results_['mean_test_score']\n",
    "best_svm_index_mean = np.argmax(svm_scores_mean)\n",
    "best_svm_params_mean = svm_grid.cv_results_['params'][best_svm_index_mean]\n",
    "\n",
    "print(\"Mejores parámetros para Support Vector Machine\", best_svm_params_mean)\n",
    "\n",
    "# Definición de los mejores modelos\n",
    "best_logistic_regression_model = LogisticRegression(C=10)\n",
    "best_svm_model = SVC(C=100, gamma=0.1, kernel='rbf', probability=True)\n",
    "\n",
    "# Entrenamiento de los modelos sobre los datos de entrenamiento utilizando los mejores parámetros\n",
    "best_logistic_regression_model.fit(X_train_selected, y_train)\n",
    "best_svm_model.fit(X_train_selected, y_train)\n",
    "\n",
    "# Predicciones del modelo sobre el test\n",
    "y_pred_logistic_regression = best_logistic_regression_model.predict(X_test_selected)\n",
    "y_pred_svm = best_svm_model.predict(X_test_selected)\n",
    "\n",
    "# Evaluación del rendimiento de los modelos\n",
    "accuracy_lr = accuracy_score(y_test, y_pred_logistic_regression)\n",
    "accuracy_svm = accuracy_score(y_test, y_pred_svm)\n",
    "precision_lr = precision_score(y_test, y_pred_logistic_regression)\n",
    "precision_svm = precision_score(y_test, y_pred_svm)\n",
    "recall_lr = recall_score(y_test, y_pred_logistic_regression)\n",
    "recall_svm = recall_score(y_test, y_pred_svm)\n",
    "f1_lr = f1_score(y_test, y_pred_logistic_regression)\n",
    "f1_svm = f1_score(y_test, y_pred_svm)\n",
    "auc_lr = roc_auc_score(y_test, y_pred_logistic_regression)\n",
    "auc_svm = roc_auc_score(y_test, y_pred_svm)\n",
    "\n",
    "# Tabla con los resultados obtenidos de los modelos\n",
    "results_table = {\n",
    "    'LR': [accuracy_lr, precision_lr, recall_lr, f1_lr, auc_lr],\n",
    "    'SVM': [accuracy_svm, precision_svm, recall_svm, f1_svm, auc_svm]\n",
    "}\n",
    "\n",
    "# Mostrar la tabla\n",
    "print(\"\\nTabla de Resultados:\")\n",
    "print(\"Metricas       | LOGR            | SVM\")\n",
    "print(\"------------------------------------------\")\n",
    "print(\"Precisión      | {:.4f}          | {:.4f}\".format(results_table['LR'][1], results_table['SVM'][1]))\n",
    "print(\"Sensibilidad   | {:.4f}          | {:.4f}\".format(results_table['LR'][2], results_table['SVM'][2]))\n",
    "print(\"F-score        | {:.4f}          | {:.4f}\".format(results_table['LR'][3], results_table['SVM'][3]))\n",
    "print(\"Exactitud      | {:.4f}          | {:.4f}\".format(results_table['LR'][0], results_table['SVM'][0]))\n",
    "print(\"AUC            | {:.4f}          | {:.4f}\".format(results_table['LR'][4], results_table['SVM'][4]))"
   ]
  },
  {
   "cell_type": "markdown",
   "metadata": {},
   "source": [
    "#### 6) Visualización de resultados (1 punto)\n",
    "- Mostrar la matriz de confusión\n",
    "- Mostrar en una única figura la comparación de las curvas ROC obtenidas por cada modelo. (Recordad que SVM requiere un parámetro específico en su llamada para poder calcular la curva ROC). "
   ]
  },
  {
   "cell_type": "code",
   "execution_count": 24,
   "metadata": {},
   "outputs": [
    {
     "name": "stdout",
     "output_type": "stream",
     "text": [
      "Matriz de confusión de Logistic Regression:\n",
      "[[29 22]\n",
      " [13 35]]\n",
      "\n",
      "Matriz de confusión de Support Vector Machine:\n",
      "[[45  6]\n",
      " [ 8 40]]\n"
     ]
    },
    {
     "data": {
      "image/png": "[encoded data removed]",
      "text/plain": [
       "<Figure size 640x480 with 1 Axes>"
      ]
     },
     "metadata": {},
     "output_type": "display_data"
    }
   ],
   "source": [
    "# Matriz de confusión\n",
    "print(\"Matriz de confusión de Logistic Regression:\\n{}\".format(confusion_matrix(y_test, y_pred_logistic_regression)))\n",
    "print(\"\\nMatriz de confusión de Support Vector Machine:\\n{}\".format(confusion_matrix(y_test, y_pred_svm)))\n",
    "\n",
    "# Cálculo de la curva ROC\n",
    "fpr_lr, tpr_lr, th_lr = roc_curve(y_test, best_logistic_regression_model.predict_proba(X_test_selected)[:, 1])\n",
    "fpr_svm, tpr_svm, th_svm = roc_curve(y_test, best_svm_model.predict_proba(X_test_selected)[:, 1])\n",
    "\n",
    "# Representación de las curvas ROC\n",
    "plt.figure()\n",
    "plt.plot(fpr_lr, tpr_lr, label='LOGR')\n",
    "plt.plot(fpr_svm, tpr_svm, label='SVM')\n",
    "plt.xlabel('False Positive Rate')\n",
    "plt.ylabel('True Positive Rate')\n",
    "plt.title('Curvas ROC')\n",
    "plt.legend()\n",
    "plt.show()"
   ]
  },
  {
   "cell_type": "markdown",
   "metadata": {},
   "source": [
    "#### 7) Interpretación de resultados (0.5 puntos)\n",
    "* Justifica brevemente cuál de los dos modelos utilizarías para ponerlo en producción"
   ]
  },
  {
   "cell_type": "code",
   "execution_count": 25,
   "metadata": {},
   "outputs": [
    {
     "name": "stdout",
     "output_type": "stream",
     "text": [
      "Área bajo la curva de Logistic Regression: 0.7349\n",
      "Área bajo la curva de Support Vector Machine: 0.9044\n"
     ]
    }
   ],
   "source": [
    "# Cálculo del área bajo la curva\n",
    "auc_lr = auc(fpr_lr, tpr_lr)\n",
    "auc_svm = auc(fpr_svm, tpr_svm)\n",
    "\n",
    "print(f\"Área bajo la curva de Logistic Regression: {auc_lr:.4f}\")\n",
    "print(f\"Área bajo la curva de Support Vector Machine: {auc_svm:.4f}\")"
   ]
  },
  {
   "cell_type": "markdown",
   "metadata": {},
   "source": [
    "Basado en el área bajo la curva (AUC), elegiría utilizar 'Support Vector Machine' al ser mayor que el otro modelo, indicando así que tiene una mejor capacidad de discriminación para separar las clases."
   ]
  }
 ],
 "metadata": {
  "kernelspec": {
   "display_name": "Python 3",
   "language": "python",
   "name": "python3"
  },
  "language_info": {
   "codemirror_mode": {
    "name": "ipython",
    "version": 3
   },
   "file_extension": ".py",
   "mimetype": "text/x-python",
   "name": "python",
   "nbconvert_exporter": "python",
   "pygments_lexer": "ipython3",
   "version": "3.11.6"
  }
 },
 "nbformat": 4,
 "nbformat_minor": 4
}
